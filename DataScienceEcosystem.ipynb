{
 "cells": [
  {
   "cell_type": "markdown",
   "id": "478f0d53-10e7-4c8b-ab90-4abd42f4ccab",
   "metadata": {},
   "source": [
    "# Data Science Tools and Ecosystem"
   ]
  },
  {
   "cell_type": "markdown",
   "id": "529a470a-2d29-40b9-849d-b5a2542cfae2",
   "metadata": {},
   "source": [
    "## In this notebook, Data Science Tools and Ecosystem are summarized."
   ]
  },
  {
   "cell_type": "markdown",
   "id": "88c6f4fa-a8eb-49e3-87c4-032cdff00d4c",
   "metadata": {},
   "source": [
    "**Objectives:**\n",
    "- Listing popular data science languages\n",
    "- Listing common libraries in data science used\n",
    "- Lister IDEs commonly used\n",
    "- Doing some basic arithmetic operations"
   ]
  },
  {
   "cell_type": "markdown",
   "id": "c5974639-d574-481f-9239-39b4f1d987c4",
   "metadata": {},
   "source": [
    "### Some of the popular languages that Data Scientists use are:\n",
    "1. Python\n",
    "2. R\n",
    "3. Java"
   ]
  },
  {
   "cell_type": "markdown",
   "id": "213a29af-a113-4445-9d1f-b3bab49d9d8b",
   "metadata": {},
   "source": [
    "### Some of the commonly used libraries used by Data Scientists include:\n",
    "1. Matplotlib\n",
    "2. Skicitlearn\n",
    "3. Pandas"
   ]
  },
  {
   "cell_type": "markdown",
   "id": "d808c6c7-b9ef-4790-b370-2315125a9158",
   "metadata": {},
   "source": [
    "Data Science Tools|\n",
    "------------------|\n",
    "JupyterNotebook|\n",
    "RStudio|\n",
    "VScode|"
   ]
  },
  {
   "cell_type": "markdown",
   "id": "4c6bf5f1-d161-4e16-9fbe-3b9ee9fc7126",
   "metadata": {},
   "source": [
    "###  Below are a few examples of evaluating arithmetic expressions in Python"
   ]
  },
  {
   "cell_type": "code",
   "execution_count": 2,
   "id": "f12236aa-f427-445a-a7d5-b6313a1bd055",
   "metadata": {},
   "outputs": [
    {
     "data": {
      "text/plain": [
       "17"
      ]
     },
     "execution_count": 2,
     "metadata": {},
     "output_type": "execute_result"
    }
   ],
   "source": [
    "#his a simple arithmetic expression to mutiply then add integers\n",
    "(3*4)+5"
   ]
  },
  {
   "cell_type": "code",
   "execution_count": 5,
   "id": "e5164369-09a3-4657-98e2-ded2c2a8710d",
   "metadata": {},
   "outputs": [
    {
     "name": "stdout",
     "output_type": "stream",
     "text": [
      "200 mins in hours is 3.3333333333333335 hours\n"
     ]
    }
   ],
   "source": [
    "#this will convert 200 minutes to hours by diving by 60\n",
    "time_in_hours= (200/60)\n",
    "print(\"200 mins in hours is\",time_in_hours,\"hours\")"
   ]
  },
  {
   "cell_type": "markdown",
   "id": "76ab0937-9dae-4a5a-b0cf-6ad4d2ccda40",
   "metadata": {},
   "source": [
    "## ***Author:***\n",
    "Darsh Agarwal"
   ]
  }
 ],
 "metadata": {
  "kernelspec": {
   "display_name": "Python 3 (ipykernel)",
   "language": "python",
   "name": "python3"
  },
  "language_info": {
   "codemirror_mode": {
    "name": "ipython",
    "version": 3
   },
   "file_extension": ".py",
   "mimetype": "text/x-python",
   "name": "python",
   "nbconvert_exporter": "python",
   "pygments_lexer": "ipython3",
   "version": "3.9.23"
  }
 },
 "nbformat": 4,
 "nbformat_minor": 5
}
